{
 "cells": [
  {
   "cell_type": "code",
   "execution_count": 7,
   "metadata": {},
   "outputs": [],
   "source": [
    "import numpy as np\n",
    "import tensorflow as tf\n",
    "from tensorflow import keras\n",
    "from tensorflow.keras.models import Sequential\n",
    "from tensorflow.keras.layers import Activation, Dense, Flatten, BatchNormalization, Conv2D, MaxPool2D\n",
    "from tensorflow.keras.optimizers import Adam\n",
    "from tensorflow.keras.metrics import categorical_crossentropy\n",
    "from sklearn.metrics import confusion_matrix\n",
    "import itertools\n",
    "import os\n",
    "import shutil\n",
    "import random\n",
    "import glob\n",
    "import matplotlib.pyplot as plt\n",
    "import warnings\n",
    "import importlib\n",
    "import MIDItoSpectrogram\n",
    "import random\n",
    "# importlib.reload(MIDItoSpectrogram)\n",
    "import mido\n",
    "from sklearn.utils import shuffle\n",
    "warnings.simplefilter(action = 'ignore', category = FutureWarning)\n",
    "%matplotlib inline"
   ]
  },
  {
   "cell_type": "markdown",
   "metadata": {},
   "source": [
    "Input Spectrogram Data"
   ]
  },
  {
   "cell_type": "code",
   "execution_count": 45,
   "metadata": {},
   "outputs": [
    {
     "name": "stdout",
     "output_type": "stream",
     "text": [
      "len 1: 7  Len 2:  88  Len 3:  4000\n",
      "len 1: 7  Len 2:  88  Len 3:  4000\n",
      "len 1: 13  Len 2:  88  Len 3:  4000\n",
      "len 1: 15  Len 2:  88  Len 3:  4000\n",
      "len 1: 14  Len 2:  88  Len 3:  4000\n",
      "len 1: 6  Len 2:  88  Len 3:  4000\n",
      "len 1: 10  Len 2:  88  Len 3:  4000\n",
      "len 1: 2  Len 2:  88  Len 3:  4000\n",
      "len 1: 4  Len 2:  88  Len 3:  4000\n",
      "len 1: 3  Len 2:  88  Len 3:  4000\n",
      "len 1: 4  Len 2:  88  Len 3:  4000\n",
      "len 1: 3  Len 2:  88  Len 3:  4000\n",
      "len 1: 2  Len 2:  88  Len 3:  4000\n",
      "len 1: 3  Len 2:  88  Len 3:  4000\n",
      "len 1: 4  Len 2:  88  Len 3:  4000\n",
      "len 1: 2  Len 2:  88  Len 3:  4000\n",
      "len 1: 2  Len 2:  88  Len 3:  4000\n",
      "len 1: 3  Len 2:  88  Len 3:  4000\n",
      "len 1: 6  Len 2:  88  Len 3:  4000\n",
      "len 1: 1  Len 2:  88  Len 3:  4000\n",
      "len 1: 1  Len 2:  88  Len 3:  4000\n",
      "len 1: 2  Len 2:  88  Len 3:  4000\n",
      "len 1: 1  Len 2:  88  Len 3:  4000\n",
      "len 1: 1  Len 2:  88  Len 3:  4000\n",
      "len 1: 3  Len 2:  88  Len 3:  4000\n",
      "len 1: 3  Len 2:  88  Len 3:  4000\n",
      "len 1: 17  Len 2:  88  Len 3:  4000\n",
      "len 1: 1  Len 2:  88  Len 3:  4000\n",
      "# of inputs  140\n"
     ]
    }
   ],
   "source": [
    "train_samples = []\n",
    "train_labels = []\n",
    "\n",
    "keys = [\"CfMaj\", \"GfMaj\", \"DfMaj\", \"AfMaj\", \"EfMaj\", \"BfMaj\", \"FMaj\", \"CMaj\", \"GMaj\", \"DMaj\", \"AMaj\", \"EMaj\", \"BMaj\", \"FsMaj\",  \"CsMaj\",\n",
    "\"AfMin\", \"EfMin\", \"BfMin\", \"FMin\", \"CMin\", \"GMin\", \"DMin\", \"AMin\", \"EMin\", \"BMin\", \"FsMin\", \"CsMin\", \"GsMin\", \"DsMin\", \"AsMin\"]\n",
    "\n",
    "importlib.reload(MIDItoSpectrogram)\n",
    "chunks = 4000\n",
    "for filename in os.listdir():\n",
    "    if filename.endswith(\".mid\"):\n",
    "        LABEL = []\n",
    "        for i in range(len(keys)):\n",
    "            try:\n",
    "                filename.index(keys[i])\n",
    "            except ValueError:\n",
    "                continue\n",
    "            else:\n",
    "                temp = [0]*30\n",
    "                temp[i] = 1\n",
    "\n",
    "                LABEL = temp\n",
    "                break\n",
    "        \n",
    "        mid = mido.MidiFile(filename, clip=True)\n",
    "        # print(filename)\n",
    "        result_array = MIDItoSpectrogram.mid2arry(mid)\n",
    "        # print(\"len 1:\", len(result_array), \" Len 2: \", len(result_array[0]))\n",
    "        result_array = result_array[len(result_array)%chunks : len(result_array)]\n",
    "        result_array = np.transpose(result_array)\n",
    "        # print(\"len 1:\", len(result_array), \" Len 2: \", len(result_array[0]))\n",
    "        result_array = np.hsplit(result_array, len(result_array[0])/chunks) \n",
    "        print(\"len 1:\", len(result_array), \" Len 2: \", len(result_array[0]), \" Len 3: \", len(result_array[0][0]))\n",
    "        for i in range(len(result_array)):\n",
    "            train_samples.append(result_array[i])\n",
    "            train_labels.append(LABEL)\n",
    "\n",
    "print(\"# of inputs \", len(train_samples))\n",
    "train_samples = np.array(train_samples)\n",
    "train_labels = np.array(train_labels)\n",
    "train_labels, train_samples = shuffle(train_labels, train_samples)\n",
    "\n",
    "        "
   ]
  },
  {
   "cell_type": "markdown",
   "metadata": {},
   "source": [
    "Build Model"
   ]
  },
  {
   "cell_type": "code",
   "execution_count": 46,
   "metadata": {},
   "outputs": [
    {
     "name": "stdout",
     "output_type": "stream",
     "text": [
      "Model: \"sequential_12\"\n",
      "_________________________________________________________________\n",
      " Layer (type)                Output Shape              Param #   \n",
      "=================================================================\n",
      " conv2d_24 (Conv2D)          (None, 88, 4000, 32)      832       \n",
      "                                                                 \n",
      " max_pooling2d_24 (MaxPoolin  (None, 17, 800, 32)      0         \n",
      " g2D)                                                            \n",
      "                                                                 \n",
      " conv2d_25 (Conv2D)          (None, 17, 800, 32)       25632     \n",
      "                                                                 \n",
      " max_pooling2d_25 (MaxPoolin  (None, 3, 160, 32)       0         \n",
      " g2D)                                                            \n",
      "                                                                 \n",
      " flatten_12 (Flatten)        (None, 15360)             0         \n",
      "                                                                 \n",
      " dense_12 (Dense)            (None, 30)                460830    \n",
      "                                                                 \n",
      "=================================================================\n",
      "Total params: 487,294\n",
      "Trainable params: 487,294\n",
      "Non-trainable params: 0\n",
      "_________________________________________________________________\n"
     ]
    }
   ],
   "source": [
    "model = Sequential([\n",
    "    Conv2D(filters = 32, kernel_size = (5,5), activation = 'relu', padding = 'same', input_shape = (88, 4000, 1)),\n",
    "    MaxPool2D(pool_size = (5,5), strides = 5),\n",
    "    Conv2D(filters = 32, kernel_size = (5, 5), activation = 'relu', padding = 'same'),\n",
    "    MaxPool2D(pool_size = (5, 5), strides = 5),\n",
    "    Flatten(),\n",
    "    \n",
    "    Dense(units = 30, activation = 'softmax')\n",
    "\n",
    "])\n",
    "model.summary()"
   ]
  },
  {
   "cell_type": "markdown",
   "metadata": {},
   "source": [
    "Setup Internal Parameters"
   ]
  },
  {
   "cell_type": "code",
   "execution_count": 47,
   "metadata": {},
   "outputs": [],
   "source": [
    "model.compile(optimizer = Adam(learning_rate = 0.005), loss = 'categorical_crossentropy', metrics = ['accuracy'])"
   ]
  },
  {
   "cell_type": "code",
   "execution_count": 48,
   "metadata": {},
   "outputs": [
    {
     "name": "stdout",
     "output_type": "stream",
     "text": [
      "Epoch 1/50\n",
      "4/4 - 17s - loss: 73.0365 - accuracy: 0.1161 - val_loss: 3.1465 - val_accuracy: 0.2500 - 17s/epoch - 4s/step\n",
      "Epoch 2/50\n",
      "4/4 - 17s - loss: 3.1875 - accuracy: 0.1786 - val_loss: 3.3352 - val_accuracy: 0.0714 - 17s/epoch - 4s/step\n",
      "Epoch 3/50\n",
      "4/4 - 20s - loss: 3.1443 - accuracy: 0.2143 - val_loss: 4.0355 - val_accuracy: 0.3214 - 20s/epoch - 5s/step\n",
      "Epoch 4/50\n",
      "4/4 - 17s - loss: 2.9297 - accuracy: 0.3304 - val_loss: 3.1300 - val_accuracy: 0.1429 - 17s/epoch - 4s/step\n",
      "Epoch 5/50\n",
      "4/4 - 16s - loss: 2.1882 - accuracy: 0.4375 - val_loss: 4.9094 - val_accuracy: 0.1071 - 16s/epoch - 4s/step\n",
      "Epoch 6/50\n",
      "4/4 - 17s - loss: 1.6992 - accuracy: 0.5357 - val_loss: 5.7820 - val_accuracy: 0.2143 - 17s/epoch - 4s/step\n",
      "Epoch 7/50\n",
      "4/4 - 16s - loss: 1.0602 - accuracy: 0.7321 - val_loss: 6.6766 - val_accuracy: 0.1429 - 16s/epoch - 4s/step\n",
      "Epoch 8/50\n",
      "4/4 - 16s - loss: 0.7184 - accuracy: 0.8125 - val_loss: 10.1083 - val_accuracy: 0.1429 - 16s/epoch - 4s/step\n",
      "Epoch 9/50\n",
      "4/4 - 16s - loss: 0.5102 - accuracy: 0.8125 - val_loss: 13.1972 - val_accuracy: 0.1071 - 16s/epoch - 4s/step\n",
      "Epoch 10/50\n",
      "4/4 - 19s - loss: 0.3473 - accuracy: 0.8839 - val_loss: 14.3595 - val_accuracy: 0.1429 - 19s/epoch - 5s/step\n",
      "Epoch 11/50\n",
      "4/4 - 20s - loss: 0.2466 - accuracy: 0.9196 - val_loss: 16.6230 - val_accuracy: 0.1429 - 20s/epoch - 5s/step\n",
      "Epoch 12/50\n"
     ]
    },
    {
     "ename": "KeyboardInterrupt",
     "evalue": "",
     "output_type": "error",
     "traceback": [
      "\u001b[1;31m---------------------------------------------------------------------------\u001b[0m",
      "\u001b[1;31mKeyboardInterrupt\u001b[0m                         Traceback (most recent call last)",
      "\u001b[1;32me:\\Grade 12\\ModernTopics2\\ResearchProject\\Method2.ipynb Cell 8'\u001b[0m in \u001b[0;36m<cell line: 1>\u001b[1;34m()\u001b[0m\n\u001b[1;32m----> <a href='vscode-notebook-cell:/e%3A/Grade%2012/ModernTopics2/ResearchProject/Method2.ipynb#ch0000007?line=0'>1</a>\u001b[0m model\u001b[39m.\u001b[39;49mfit(x \u001b[39m=\u001b[39;49m train_samples, y \u001b[39m=\u001b[39;49m train_labels,  validation_split \u001b[39m=\u001b[39;49m \u001b[39m0.2\u001b[39;49m, batch_size \u001b[39m=\u001b[39;49m \u001b[39m32\u001b[39;49m, epochs \u001b[39m=\u001b[39;49m \u001b[39m50\u001b[39;49m, shuffle \u001b[39m=\u001b[39;49m \u001b[39mTrue\u001b[39;49;00m, verbose \u001b[39m=\u001b[39;49m \u001b[39m2\u001b[39;49m)\n",
      "File \u001b[1;32mc:\\Users\\22berniec\\Anaconda3\\envs\\ComputerModeling\\lib\\site-packages\\keras\\utils\\traceback_utils.py:64\u001b[0m, in \u001b[0;36mfilter_traceback.<locals>.error_handler\u001b[1;34m(*args, **kwargs)\u001b[0m\n\u001b[0;32m     <a href='file:///c%3A/Users/22berniec/Anaconda3/envs/ComputerModeling/lib/site-packages/keras/utils/traceback_utils.py?line=61'>62</a>\u001b[0m filtered_tb \u001b[39m=\u001b[39m \u001b[39mNone\u001b[39;00m\n\u001b[0;32m     <a href='file:///c%3A/Users/22berniec/Anaconda3/envs/ComputerModeling/lib/site-packages/keras/utils/traceback_utils.py?line=62'>63</a>\u001b[0m \u001b[39mtry\u001b[39;00m:\n\u001b[1;32m---> <a href='file:///c%3A/Users/22berniec/Anaconda3/envs/ComputerModeling/lib/site-packages/keras/utils/traceback_utils.py?line=63'>64</a>\u001b[0m   \u001b[39mreturn\u001b[39;00m fn(\u001b[39m*\u001b[39;49margs, \u001b[39m*\u001b[39;49m\u001b[39m*\u001b[39;49mkwargs)\n\u001b[0;32m     <a href='file:///c%3A/Users/22berniec/Anaconda3/envs/ComputerModeling/lib/site-packages/keras/utils/traceback_utils.py?line=64'>65</a>\u001b[0m \u001b[39mexcept\u001b[39;00m \u001b[39mException\u001b[39;00m \u001b[39mas\u001b[39;00m e:  \u001b[39m# pylint: disable=broad-except\u001b[39;00m\n\u001b[0;32m     <a href='file:///c%3A/Users/22berniec/Anaconda3/envs/ComputerModeling/lib/site-packages/keras/utils/traceback_utils.py?line=65'>66</a>\u001b[0m   filtered_tb \u001b[39m=\u001b[39m _process_traceback_frames(e\u001b[39m.\u001b[39m__traceback__)\n",
      "File \u001b[1;32mc:\\Users\\22berniec\\Anaconda3\\envs\\ComputerModeling\\lib\\site-packages\\keras\\engine\\training.py:1384\u001b[0m, in \u001b[0;36mModel.fit\u001b[1;34m(self, x, y, batch_size, epochs, verbose, callbacks, validation_split, validation_data, shuffle, class_weight, sample_weight, initial_epoch, steps_per_epoch, validation_steps, validation_batch_size, validation_freq, max_queue_size, workers, use_multiprocessing)\u001b[0m\n\u001b[0;32m   <a href='file:///c%3A/Users/22berniec/Anaconda3/envs/ComputerModeling/lib/site-packages/keras/engine/training.py?line=1376'>1377</a>\u001b[0m \u001b[39mwith\u001b[39;00m tf\u001b[39m.\u001b[39mprofiler\u001b[39m.\u001b[39mexperimental\u001b[39m.\u001b[39mTrace(\n\u001b[0;32m   <a href='file:///c%3A/Users/22berniec/Anaconda3/envs/ComputerModeling/lib/site-packages/keras/engine/training.py?line=1377'>1378</a>\u001b[0m     \u001b[39m'\u001b[39m\u001b[39mtrain\u001b[39m\u001b[39m'\u001b[39m,\n\u001b[0;32m   <a href='file:///c%3A/Users/22berniec/Anaconda3/envs/ComputerModeling/lib/site-packages/keras/engine/training.py?line=1378'>1379</a>\u001b[0m     epoch_num\u001b[39m=\u001b[39mepoch,\n\u001b[0;32m   <a href='file:///c%3A/Users/22berniec/Anaconda3/envs/ComputerModeling/lib/site-packages/keras/engine/training.py?line=1379'>1380</a>\u001b[0m     step_num\u001b[39m=\u001b[39mstep,\n\u001b[0;32m   <a href='file:///c%3A/Users/22berniec/Anaconda3/envs/ComputerModeling/lib/site-packages/keras/engine/training.py?line=1380'>1381</a>\u001b[0m     batch_size\u001b[39m=\u001b[39mbatch_size,\n\u001b[0;32m   <a href='file:///c%3A/Users/22berniec/Anaconda3/envs/ComputerModeling/lib/site-packages/keras/engine/training.py?line=1381'>1382</a>\u001b[0m     _r\u001b[39m=\u001b[39m\u001b[39m1\u001b[39m):\n\u001b[0;32m   <a href='file:///c%3A/Users/22berniec/Anaconda3/envs/ComputerModeling/lib/site-packages/keras/engine/training.py?line=1382'>1383</a>\u001b[0m   callbacks\u001b[39m.\u001b[39mon_train_batch_begin(step)\n\u001b[1;32m-> <a href='file:///c%3A/Users/22berniec/Anaconda3/envs/ComputerModeling/lib/site-packages/keras/engine/training.py?line=1383'>1384</a>\u001b[0m   tmp_logs \u001b[39m=\u001b[39m \u001b[39mself\u001b[39;49m\u001b[39m.\u001b[39;49mtrain_function(iterator)\n\u001b[0;32m   <a href='file:///c%3A/Users/22berniec/Anaconda3/envs/ComputerModeling/lib/site-packages/keras/engine/training.py?line=1384'>1385</a>\u001b[0m   \u001b[39mif\u001b[39;00m data_handler\u001b[39m.\u001b[39mshould_sync:\n\u001b[0;32m   <a href='file:///c%3A/Users/22berniec/Anaconda3/envs/ComputerModeling/lib/site-packages/keras/engine/training.py?line=1385'>1386</a>\u001b[0m     context\u001b[39m.\u001b[39masync_wait()\n",
      "File \u001b[1;32mc:\\Users\\22berniec\\Anaconda3\\envs\\ComputerModeling\\lib\\site-packages\\tensorflow\\python\\util\\traceback_utils.py:150\u001b[0m, in \u001b[0;36mfilter_traceback.<locals>.error_handler\u001b[1;34m(*args, **kwargs)\u001b[0m\n\u001b[0;32m    <a href='file:///c%3A/Users/22berniec/Anaconda3/envs/ComputerModeling/lib/site-packages/tensorflow/python/util/traceback_utils.py?line=147'>148</a>\u001b[0m filtered_tb \u001b[39m=\u001b[39m \u001b[39mNone\u001b[39;00m\n\u001b[0;32m    <a href='file:///c%3A/Users/22berniec/Anaconda3/envs/ComputerModeling/lib/site-packages/tensorflow/python/util/traceback_utils.py?line=148'>149</a>\u001b[0m \u001b[39mtry\u001b[39;00m:\n\u001b[1;32m--> <a href='file:///c%3A/Users/22berniec/Anaconda3/envs/ComputerModeling/lib/site-packages/tensorflow/python/util/traceback_utils.py?line=149'>150</a>\u001b[0m   \u001b[39mreturn\u001b[39;00m fn(\u001b[39m*\u001b[39;49margs, \u001b[39m*\u001b[39;49m\u001b[39m*\u001b[39;49mkwargs)\n\u001b[0;32m    <a href='file:///c%3A/Users/22berniec/Anaconda3/envs/ComputerModeling/lib/site-packages/tensorflow/python/util/traceback_utils.py?line=150'>151</a>\u001b[0m \u001b[39mexcept\u001b[39;00m \u001b[39mException\u001b[39;00m \u001b[39mas\u001b[39;00m e:\n\u001b[0;32m    <a href='file:///c%3A/Users/22berniec/Anaconda3/envs/ComputerModeling/lib/site-packages/tensorflow/python/util/traceback_utils.py?line=151'>152</a>\u001b[0m   filtered_tb \u001b[39m=\u001b[39m _process_traceback_frames(e\u001b[39m.\u001b[39m__traceback__)\n",
      "File \u001b[1;32mc:\\Users\\22berniec\\Anaconda3\\envs\\ComputerModeling\\lib\\site-packages\\tensorflow\\python\\eager\\def_function.py:915\u001b[0m, in \u001b[0;36mFunction.__call__\u001b[1;34m(self, *args, **kwds)\u001b[0m\n\u001b[0;32m    <a href='file:///c%3A/Users/22berniec/Anaconda3/envs/ComputerModeling/lib/site-packages/tensorflow/python/eager/def_function.py?line=911'>912</a>\u001b[0m compiler \u001b[39m=\u001b[39m \u001b[39m\"\u001b[39m\u001b[39mxla\u001b[39m\u001b[39m\"\u001b[39m \u001b[39mif\u001b[39;00m \u001b[39mself\u001b[39m\u001b[39m.\u001b[39m_jit_compile \u001b[39melse\u001b[39;00m \u001b[39m\"\u001b[39m\u001b[39mnonXla\u001b[39m\u001b[39m\"\u001b[39m\n\u001b[0;32m    <a href='file:///c%3A/Users/22berniec/Anaconda3/envs/ComputerModeling/lib/site-packages/tensorflow/python/eager/def_function.py?line=913'>914</a>\u001b[0m \u001b[39mwith\u001b[39;00m OptionalXlaContext(\u001b[39mself\u001b[39m\u001b[39m.\u001b[39m_jit_compile):\n\u001b[1;32m--> <a href='file:///c%3A/Users/22berniec/Anaconda3/envs/ComputerModeling/lib/site-packages/tensorflow/python/eager/def_function.py?line=914'>915</a>\u001b[0m   result \u001b[39m=\u001b[39m \u001b[39mself\u001b[39;49m\u001b[39m.\u001b[39;49m_call(\u001b[39m*\u001b[39;49margs, \u001b[39m*\u001b[39;49m\u001b[39m*\u001b[39;49mkwds)\n\u001b[0;32m    <a href='file:///c%3A/Users/22berniec/Anaconda3/envs/ComputerModeling/lib/site-packages/tensorflow/python/eager/def_function.py?line=916'>917</a>\u001b[0m new_tracing_count \u001b[39m=\u001b[39m \u001b[39mself\u001b[39m\u001b[39m.\u001b[39mexperimental_get_tracing_count()\n\u001b[0;32m    <a href='file:///c%3A/Users/22berniec/Anaconda3/envs/ComputerModeling/lib/site-packages/tensorflow/python/eager/def_function.py?line=917'>918</a>\u001b[0m without_tracing \u001b[39m=\u001b[39m (tracing_count \u001b[39m==\u001b[39m new_tracing_count)\n",
      "File \u001b[1;32mc:\\Users\\22berniec\\Anaconda3\\envs\\ComputerModeling\\lib\\site-packages\\tensorflow\\python\\eager\\def_function.py:947\u001b[0m, in \u001b[0;36mFunction._call\u001b[1;34m(self, *args, **kwds)\u001b[0m\n\u001b[0;32m    <a href='file:///c%3A/Users/22berniec/Anaconda3/envs/ComputerModeling/lib/site-packages/tensorflow/python/eager/def_function.py?line=943'>944</a>\u001b[0m   \u001b[39mself\u001b[39m\u001b[39m.\u001b[39m_lock\u001b[39m.\u001b[39mrelease()\n\u001b[0;32m    <a href='file:///c%3A/Users/22berniec/Anaconda3/envs/ComputerModeling/lib/site-packages/tensorflow/python/eager/def_function.py?line=944'>945</a>\u001b[0m   \u001b[39m# In this case we have created variables on the first call, so we run the\u001b[39;00m\n\u001b[0;32m    <a href='file:///c%3A/Users/22berniec/Anaconda3/envs/ComputerModeling/lib/site-packages/tensorflow/python/eager/def_function.py?line=945'>946</a>\u001b[0m   \u001b[39m# defunned version which is guaranteed to never create variables.\u001b[39;00m\n\u001b[1;32m--> <a href='file:///c%3A/Users/22berniec/Anaconda3/envs/ComputerModeling/lib/site-packages/tensorflow/python/eager/def_function.py?line=946'>947</a>\u001b[0m   \u001b[39mreturn\u001b[39;00m \u001b[39mself\u001b[39;49m\u001b[39m.\u001b[39;49m_stateless_fn(\u001b[39m*\u001b[39;49margs, \u001b[39m*\u001b[39;49m\u001b[39m*\u001b[39;49mkwds)  \u001b[39m# pylint: disable=not-callable\u001b[39;00m\n\u001b[0;32m    <a href='file:///c%3A/Users/22berniec/Anaconda3/envs/ComputerModeling/lib/site-packages/tensorflow/python/eager/def_function.py?line=947'>948</a>\u001b[0m \u001b[39melif\u001b[39;00m \u001b[39mself\u001b[39m\u001b[39m.\u001b[39m_stateful_fn \u001b[39mis\u001b[39;00m \u001b[39mnot\u001b[39;00m \u001b[39mNone\u001b[39;00m:\n\u001b[0;32m    <a href='file:///c%3A/Users/22berniec/Anaconda3/envs/ComputerModeling/lib/site-packages/tensorflow/python/eager/def_function.py?line=948'>949</a>\u001b[0m   \u001b[39m# Release the lock early so that multiple threads can perform the call\u001b[39;00m\n\u001b[0;32m    <a href='file:///c%3A/Users/22berniec/Anaconda3/envs/ComputerModeling/lib/site-packages/tensorflow/python/eager/def_function.py?line=949'>950</a>\u001b[0m   \u001b[39m# in parallel.\u001b[39;00m\n\u001b[0;32m    <a href='file:///c%3A/Users/22berniec/Anaconda3/envs/ComputerModeling/lib/site-packages/tensorflow/python/eager/def_function.py?line=950'>951</a>\u001b[0m   \u001b[39mself\u001b[39m\u001b[39m.\u001b[39m_lock\u001b[39m.\u001b[39mrelease()\n",
      "File \u001b[1;32mc:\\Users\\22berniec\\Anaconda3\\envs\\ComputerModeling\\lib\\site-packages\\tensorflow\\python\\eager\\function.py:2956\u001b[0m, in \u001b[0;36mFunction.__call__\u001b[1;34m(self, *args, **kwargs)\u001b[0m\n\u001b[0;32m   <a href='file:///c%3A/Users/22berniec/Anaconda3/envs/ComputerModeling/lib/site-packages/tensorflow/python/eager/function.py?line=2952'>2953</a>\u001b[0m \u001b[39mwith\u001b[39;00m \u001b[39mself\u001b[39m\u001b[39m.\u001b[39m_lock:\n\u001b[0;32m   <a href='file:///c%3A/Users/22berniec/Anaconda3/envs/ComputerModeling/lib/site-packages/tensorflow/python/eager/function.py?line=2953'>2954</a>\u001b[0m   (graph_function,\n\u001b[0;32m   <a href='file:///c%3A/Users/22berniec/Anaconda3/envs/ComputerModeling/lib/site-packages/tensorflow/python/eager/function.py?line=2954'>2955</a>\u001b[0m    filtered_flat_args) \u001b[39m=\u001b[39m \u001b[39mself\u001b[39m\u001b[39m.\u001b[39m_maybe_define_function(args, kwargs)\n\u001b[1;32m-> <a href='file:///c%3A/Users/22berniec/Anaconda3/envs/ComputerModeling/lib/site-packages/tensorflow/python/eager/function.py?line=2955'>2956</a>\u001b[0m \u001b[39mreturn\u001b[39;00m graph_function\u001b[39m.\u001b[39;49m_call_flat(\n\u001b[0;32m   <a href='file:///c%3A/Users/22berniec/Anaconda3/envs/ComputerModeling/lib/site-packages/tensorflow/python/eager/function.py?line=2956'>2957</a>\u001b[0m     filtered_flat_args, captured_inputs\u001b[39m=\u001b[39;49mgraph_function\u001b[39m.\u001b[39;49mcaptured_inputs)\n",
      "File \u001b[1;32mc:\\Users\\22berniec\\Anaconda3\\envs\\ComputerModeling\\lib\\site-packages\\tensorflow\\python\\eager\\function.py:1853\u001b[0m, in \u001b[0;36mConcreteFunction._call_flat\u001b[1;34m(self, args, captured_inputs, cancellation_manager)\u001b[0m\n\u001b[0;32m   <a href='file:///c%3A/Users/22berniec/Anaconda3/envs/ComputerModeling/lib/site-packages/tensorflow/python/eager/function.py?line=1848'>1849</a>\u001b[0m possible_gradient_type \u001b[39m=\u001b[39m gradients_util\u001b[39m.\u001b[39mPossibleTapeGradientTypes(args)\n\u001b[0;32m   <a href='file:///c%3A/Users/22berniec/Anaconda3/envs/ComputerModeling/lib/site-packages/tensorflow/python/eager/function.py?line=1849'>1850</a>\u001b[0m \u001b[39mif\u001b[39;00m (possible_gradient_type \u001b[39m==\u001b[39m gradients_util\u001b[39m.\u001b[39mPOSSIBLE_GRADIENT_TYPES_NONE\n\u001b[0;32m   <a href='file:///c%3A/Users/22berniec/Anaconda3/envs/ComputerModeling/lib/site-packages/tensorflow/python/eager/function.py?line=1850'>1851</a>\u001b[0m     \u001b[39mand\u001b[39;00m executing_eagerly):\n\u001b[0;32m   <a href='file:///c%3A/Users/22berniec/Anaconda3/envs/ComputerModeling/lib/site-packages/tensorflow/python/eager/function.py?line=1851'>1852</a>\u001b[0m   \u001b[39m# No tape is watching; skip to running the function.\u001b[39;00m\n\u001b[1;32m-> <a href='file:///c%3A/Users/22berniec/Anaconda3/envs/ComputerModeling/lib/site-packages/tensorflow/python/eager/function.py?line=1852'>1853</a>\u001b[0m   \u001b[39mreturn\u001b[39;00m \u001b[39mself\u001b[39m\u001b[39m.\u001b[39m_build_call_outputs(\u001b[39mself\u001b[39;49m\u001b[39m.\u001b[39;49m_inference_function\u001b[39m.\u001b[39;49mcall(\n\u001b[0;32m   <a href='file:///c%3A/Users/22berniec/Anaconda3/envs/ComputerModeling/lib/site-packages/tensorflow/python/eager/function.py?line=1853'>1854</a>\u001b[0m       ctx, args, cancellation_manager\u001b[39m=\u001b[39;49mcancellation_manager))\n\u001b[0;32m   <a href='file:///c%3A/Users/22berniec/Anaconda3/envs/ComputerModeling/lib/site-packages/tensorflow/python/eager/function.py?line=1854'>1855</a>\u001b[0m forward_backward \u001b[39m=\u001b[39m \u001b[39mself\u001b[39m\u001b[39m.\u001b[39m_select_forward_and_backward_functions(\n\u001b[0;32m   <a href='file:///c%3A/Users/22berniec/Anaconda3/envs/ComputerModeling/lib/site-packages/tensorflow/python/eager/function.py?line=1855'>1856</a>\u001b[0m     args,\n\u001b[0;32m   <a href='file:///c%3A/Users/22berniec/Anaconda3/envs/ComputerModeling/lib/site-packages/tensorflow/python/eager/function.py?line=1856'>1857</a>\u001b[0m     possible_gradient_type,\n\u001b[0;32m   <a href='file:///c%3A/Users/22berniec/Anaconda3/envs/ComputerModeling/lib/site-packages/tensorflow/python/eager/function.py?line=1857'>1858</a>\u001b[0m     executing_eagerly)\n\u001b[0;32m   <a href='file:///c%3A/Users/22berniec/Anaconda3/envs/ComputerModeling/lib/site-packages/tensorflow/python/eager/function.py?line=1858'>1859</a>\u001b[0m forward_function, args_with_tangents \u001b[39m=\u001b[39m forward_backward\u001b[39m.\u001b[39mforward()\n",
      "File \u001b[1;32mc:\\Users\\22berniec\\Anaconda3\\envs\\ComputerModeling\\lib\\site-packages\\tensorflow\\python\\eager\\function.py:499\u001b[0m, in \u001b[0;36m_EagerDefinedFunction.call\u001b[1;34m(self, ctx, args, cancellation_manager)\u001b[0m\n\u001b[0;32m    <a href='file:///c%3A/Users/22berniec/Anaconda3/envs/ComputerModeling/lib/site-packages/tensorflow/python/eager/function.py?line=496'>497</a>\u001b[0m \u001b[39mwith\u001b[39;00m _InterpolateFunctionError(\u001b[39mself\u001b[39m):\n\u001b[0;32m    <a href='file:///c%3A/Users/22berniec/Anaconda3/envs/ComputerModeling/lib/site-packages/tensorflow/python/eager/function.py?line=497'>498</a>\u001b[0m   \u001b[39mif\u001b[39;00m cancellation_manager \u001b[39mis\u001b[39;00m \u001b[39mNone\u001b[39;00m:\n\u001b[1;32m--> <a href='file:///c%3A/Users/22berniec/Anaconda3/envs/ComputerModeling/lib/site-packages/tensorflow/python/eager/function.py?line=498'>499</a>\u001b[0m     outputs \u001b[39m=\u001b[39m execute\u001b[39m.\u001b[39;49mexecute(\n\u001b[0;32m    <a href='file:///c%3A/Users/22berniec/Anaconda3/envs/ComputerModeling/lib/site-packages/tensorflow/python/eager/function.py?line=499'>500</a>\u001b[0m         \u001b[39mstr\u001b[39;49m(\u001b[39mself\u001b[39;49m\u001b[39m.\u001b[39;49msignature\u001b[39m.\u001b[39;49mname),\n\u001b[0;32m    <a href='file:///c%3A/Users/22berniec/Anaconda3/envs/ComputerModeling/lib/site-packages/tensorflow/python/eager/function.py?line=500'>501</a>\u001b[0m         num_outputs\u001b[39m=\u001b[39;49m\u001b[39mself\u001b[39;49m\u001b[39m.\u001b[39;49m_num_outputs,\n\u001b[0;32m    <a href='file:///c%3A/Users/22berniec/Anaconda3/envs/ComputerModeling/lib/site-packages/tensorflow/python/eager/function.py?line=501'>502</a>\u001b[0m         inputs\u001b[39m=\u001b[39;49margs,\n\u001b[0;32m    <a href='file:///c%3A/Users/22berniec/Anaconda3/envs/ComputerModeling/lib/site-packages/tensorflow/python/eager/function.py?line=502'>503</a>\u001b[0m         attrs\u001b[39m=\u001b[39;49mattrs,\n\u001b[0;32m    <a href='file:///c%3A/Users/22berniec/Anaconda3/envs/ComputerModeling/lib/site-packages/tensorflow/python/eager/function.py?line=503'>504</a>\u001b[0m         ctx\u001b[39m=\u001b[39;49mctx)\n\u001b[0;32m    <a href='file:///c%3A/Users/22berniec/Anaconda3/envs/ComputerModeling/lib/site-packages/tensorflow/python/eager/function.py?line=504'>505</a>\u001b[0m   \u001b[39melse\u001b[39;00m:\n\u001b[0;32m    <a href='file:///c%3A/Users/22berniec/Anaconda3/envs/ComputerModeling/lib/site-packages/tensorflow/python/eager/function.py?line=505'>506</a>\u001b[0m     outputs \u001b[39m=\u001b[39m execute\u001b[39m.\u001b[39mexecute_with_cancellation(\n\u001b[0;32m    <a href='file:///c%3A/Users/22berniec/Anaconda3/envs/ComputerModeling/lib/site-packages/tensorflow/python/eager/function.py?line=506'>507</a>\u001b[0m         \u001b[39mstr\u001b[39m(\u001b[39mself\u001b[39m\u001b[39m.\u001b[39msignature\u001b[39m.\u001b[39mname),\n\u001b[0;32m    <a href='file:///c%3A/Users/22berniec/Anaconda3/envs/ComputerModeling/lib/site-packages/tensorflow/python/eager/function.py?line=507'>508</a>\u001b[0m         num_outputs\u001b[39m=\u001b[39m\u001b[39mself\u001b[39m\u001b[39m.\u001b[39m_num_outputs,\n\u001b[1;32m   (...)\u001b[0m\n\u001b[0;32m    <a href='file:///c%3A/Users/22berniec/Anaconda3/envs/ComputerModeling/lib/site-packages/tensorflow/python/eager/function.py?line=510'>511</a>\u001b[0m         ctx\u001b[39m=\u001b[39mctx,\n\u001b[0;32m    <a href='file:///c%3A/Users/22berniec/Anaconda3/envs/ComputerModeling/lib/site-packages/tensorflow/python/eager/function.py?line=511'>512</a>\u001b[0m         cancellation_manager\u001b[39m=\u001b[39mcancellation_manager)\n",
      "File \u001b[1;32mc:\\Users\\22berniec\\Anaconda3\\envs\\ComputerModeling\\lib\\site-packages\\tensorflow\\python\\eager\\execute.py:54\u001b[0m, in \u001b[0;36mquick_execute\u001b[1;34m(op_name, num_outputs, inputs, attrs, ctx, name)\u001b[0m\n\u001b[0;32m     <a href='file:///c%3A/Users/22berniec/Anaconda3/envs/ComputerModeling/lib/site-packages/tensorflow/python/eager/execute.py?line=51'>52</a>\u001b[0m \u001b[39mtry\u001b[39;00m:\n\u001b[0;32m     <a href='file:///c%3A/Users/22berniec/Anaconda3/envs/ComputerModeling/lib/site-packages/tensorflow/python/eager/execute.py?line=52'>53</a>\u001b[0m   ctx\u001b[39m.\u001b[39mensure_initialized()\n\u001b[1;32m---> <a href='file:///c%3A/Users/22berniec/Anaconda3/envs/ComputerModeling/lib/site-packages/tensorflow/python/eager/execute.py?line=53'>54</a>\u001b[0m   tensors \u001b[39m=\u001b[39m pywrap_tfe\u001b[39m.\u001b[39;49mTFE_Py_Execute(ctx\u001b[39m.\u001b[39;49m_handle, device_name, op_name,\n\u001b[0;32m     <a href='file:///c%3A/Users/22berniec/Anaconda3/envs/ComputerModeling/lib/site-packages/tensorflow/python/eager/execute.py?line=54'>55</a>\u001b[0m                                       inputs, attrs, num_outputs)\n\u001b[0;32m     <a href='file:///c%3A/Users/22berniec/Anaconda3/envs/ComputerModeling/lib/site-packages/tensorflow/python/eager/execute.py?line=55'>56</a>\u001b[0m \u001b[39mexcept\u001b[39;00m core\u001b[39m.\u001b[39m_NotOkStatusException \u001b[39mas\u001b[39;00m e:\n\u001b[0;32m     <a href='file:///c%3A/Users/22berniec/Anaconda3/envs/ComputerModeling/lib/site-packages/tensorflow/python/eager/execute.py?line=56'>57</a>\u001b[0m   \u001b[39mif\u001b[39;00m name \u001b[39mis\u001b[39;00m \u001b[39mnot\u001b[39;00m \u001b[39mNone\u001b[39;00m:\n",
      "\u001b[1;31mKeyboardInterrupt\u001b[0m: "
     ]
    }
   ],
   "source": [
    "model.fit(x = train_samples, y = train_labels,  validation_split = 0.2, batch_size = 32, epochs = 50, shuffle = True, verbose = 2)"
   ]
  }
 ],
 "metadata": {
  "interpreter": {
   "hash": "8643b8a7eff3350437230864ff517056e946ddccac03083145411b029836a4f0"
  },
  "kernelspec": {
   "display_name": "Python 3.8.12 ('ComputerModeling')",
   "language": "python",
   "name": "python3"
  },
  "language_info": {
   "codemirror_mode": {
    "name": "ipython",
    "version": 3
   },
   "file_extension": ".py",
   "mimetype": "text/x-python",
   "name": "python",
   "nbconvert_exporter": "python",
   "pygments_lexer": "ipython3",
   "version": "3.8.12"
  },
  "orig_nbformat": 4
 },
 "nbformat": 4,
 "nbformat_minor": 2
}
